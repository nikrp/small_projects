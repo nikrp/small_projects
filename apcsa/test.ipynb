{
 "cells": [
  {
   "cell_type": "code",
   "execution_count": 21,
   "metadata": {},
   "outputs": [],
   "source": [
    "from pandas import *"
   ]
  },
  {
   "cell_type": "code",
   "execution_count": 22,
   "metadata": {},
   "outputs": [],
   "source": [
    "easy = {\n",
    "    \n",
    "    \"questions\":[\"What is a variable?\"],\n",
    "    \"op1\":[\"A method that performs a specific task.\"],\n",
    "    \"op2\":[\"A data type that represents a sequence of characters.\"],\n",
    "    \"op3\":[\"A value that can be assigned and changed during program execution.\"],\n",
    "    \"op4\":[\"A conditional statement that allows for different code execution paths.\"],\n",
    "    \"answer\":[\"A value that can be assigned and changed during program execution.\"]    \n",
    "}\n"
   ]
  },
  {
   "cell_type": "code",
   "execution_count": 23,
   "metadata": {},
   "outputs": [],
   "source": [
    "basic_easy_df = DataFrame(easy)\n"
   ]
  },
  {
   "cell_type": "code",
   "execution_count": 26,
   "metadata": {},
   "outputs": [
    {
     "data": {
      "text/html": [
       "<div>\n",
       "<style scoped>\n",
       "    .dataframe tbody tr th:only-of-type {\n",
       "        vertical-align: middle;\n",
       "    }\n",
       "\n",
       "    .dataframe tbody tr th {\n",
       "        vertical-align: top;\n",
       "    }\n",
       "\n",
       "    .dataframe thead th {\n",
       "        text-align: right;\n",
       "    }\n",
       "</style>\n",
       "<table border=\"1\" class=\"dataframe\">\n",
       "  <thead>\n",
       "    <tr style=\"text-align: right;\">\n",
       "      <th></th>\n",
       "      <th>questions</th>\n",
       "      <th>op1</th>\n",
       "      <th>op2</th>\n",
       "      <th>op3</th>\n",
       "      <th>op4</th>\n",
       "      <th>answer</th>\n",
       "    </tr>\n",
       "  </thead>\n",
       "  <tbody>\n",
       "    <tr>\n",
       "      <th>0</th>\n",
       "      <td>What is a variable?</td>\n",
       "      <td>A method that performs a specific task.</td>\n",
       "      <td>A data type that represents a sequence of char...</td>\n",
       "      <td>A value that can be assigned and changed durin...</td>\n",
       "      <td>A conditional statement that allows for differ...</td>\n",
       "      <td>A value that can be assigned and changed durin...</td>\n",
       "    </tr>\n",
       "  </tbody>\n",
       "</table>\n",
       "</div>"
      ],
      "text/plain": [
       "             questions                                      op1  \\\n",
       "0  What is a variable?  A method that performs a specific task.   \n",
       "\n",
       "                                                 op2  \\\n",
       "0  A data type that represents a sequence of char...   \n",
       "\n",
       "                                                 op3  \\\n",
       "0  A value that can be assigned and changed durin...   \n",
       "\n",
       "                                                 op4  \\\n",
       "0  A conditional statement that allows for differ...   \n",
       "\n",
       "                                              answer  \n",
       "0  A value that can be assigned and changed durin...  "
      ]
     },
     "execution_count": 26,
     "metadata": {},
     "output_type": "execute_result"
    }
   ],
   "source": [
    "basic_easy_df.head()"
   ]
  },
  {
   "cell_type": "code",
   "execution_count": 25,
   "metadata": {},
   "outputs": [],
   "source": [
    "basic_easy_df.to_csv(\"basic_easy.csv\")"
   ]
  },
  {
   "cell_type": "code",
   "execution_count": null,
   "metadata": {},
   "outputs": [],
   "source": [
    "basic_easy_df = read_csv(\"basic_easy.csv\")"
   ]
  }
 ],
 "metadata": {
  "kernelspec": {
   "display_name": "da",
   "language": "python",
   "name": "python3"
  },
  "language_info": {
   "codemirror_mode": {
    "name": "ipython",
    "version": 3
   },
   "file_extension": ".py",
   "mimetype": "text/x-python",
   "name": "python",
   "nbconvert_exporter": "python",
   "pygments_lexer": "ipython3",
   "version": "3.10.9"
  },
  "orig_nbformat": 4
 },
 "nbformat": 4,
 "nbformat_minor": 2
}
